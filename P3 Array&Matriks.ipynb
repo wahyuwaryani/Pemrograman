{
  "cells": [
    {
      "cell_type": "markdown",
      "metadata": {
        "id": "view-in-github",
        "colab_type": "text"
      },
      "source": [
        "<a href=\"https://colab.research.google.com/github/wahyuwaryani/Pemrograman/blob/main/P3%20Array%26Matriks.ipynb\" target=\"_parent\"><img src=\"https://colab.research.google.com/assets/colab-badge.svg\" alt=\"Open In Colab\"/></a>"
      ]
    },
    {
      "cell_type": "markdown",
      "source": [
        "Contoh 1"
      ],
      "metadata": {
        "id": "KghGmLYEv2Rx"
      }
    },
    {
      "cell_type": "code",
      "source": [
        "NumbInt = [9,8,7,6,5,4,3,2,10]\n",
        "print(NumbInt [2])"
      ],
      "metadata": {
        "id": "pJBrQ6JJt8yY",
        "outputId": "8740de83-f329-4abb-d058-d5650d1394db",
        "colab": {
          "base_uri": "https://localhost:8080/"
        }
      },
      "execution_count": 1,
      "outputs": [
        {
          "output_type": "stream",
          "name": "stdout",
          "text": [
            "7\n"
          ]
        }
      ]
    },
    {
      "cell_type": "markdown",
      "source": [
        "Contoh 2"
      ],
      "metadata": {
        "id": "svDW5SRov4o4"
      }
    },
    {
      "cell_type": "code",
      "source": [
        "NumbInt = [0 for i in range (10)]\n",
        "print (NumbInt)"
      ],
      "metadata": {
        "id": "sogKWaakuIFJ",
        "outputId": "2e3436df-3fff-4cf6-bfa5-d7d7b88ad60e",
        "colab": {
          "base_uri": "https://localhost:8080/"
        }
      },
      "execution_count": 2,
      "outputs": [
        {
          "output_type": "stream",
          "name": "stdout",
          "text": [
            "[0, 0, 0, 0, 0, 0, 0, 0, 0, 0]\n"
          ]
        }
      ]
    },
    {
      "cell_type": "markdown",
      "source": [
        "Contoh 3"
      ],
      "metadata": {
        "id": "Z-Zeo7Luv64R"
      }
    },
    {
      "cell_type": "code",
      "source": [
        "StartChart = ['*' for i in range (10)]\n",
        "print (StartChart)"
      ],
      "metadata": {
        "id": "WkhyVob8vNlI",
        "outputId": "13d09228-1480-4e1b-bfb7-ba3b53366d0c",
        "colab": {
          "base_uri": "https://localhost:8080/"
        }
      },
      "execution_count": 5,
      "outputs": [
        {
          "output_type": "stream",
          "name": "stdout",
          "text": [
            "['*', '*', '*', '*', '*', '*', '*', '*', '*', '*']\n"
          ]
        }
      ]
    },
    {
      "cell_type": "markdown",
      "source": [
        "Contoh 4"
      ],
      "metadata": {
        "id": "RRxaK8mwv9nh"
      }
    },
    {
      "cell_type": "code",
      "source": [
        "NumbInt = [1,2,4,-1,100,2,0,-1,3,9]\n",
        "print(NumbInt[7])"
      ],
      "metadata": {
        "id": "dFpgQD2vud5I",
        "outputId": "f492d14b-a82f-4f17-c90c-fade4c2d5edc",
        "colab": {
          "base_uri": "https://localhost:8080/"
        }
      },
      "execution_count": 4,
      "outputs": [
        {
          "output_type": "stream",
          "name": "stdout",
          "text": [
            "-1\n"
          ]
        }
      ]
    },
    {
      "cell_type": "code",
      "source": [
        "TabInt = [1, 2, 4, -1, 100, 2, 0, -1, 3, 9]\n",
        "print(TabInt[5])"
      ],
      "metadata": {
        "id": "pDNaWlsku8KJ",
        "outputId": "d22bb4dc-e031-4d94-8c7c-35a418e619c3",
        "colab": {
          "base_uri": "https://localhost:8080/"
        }
      },
      "execution_count": 9,
      "outputs": [
        {
          "output_type": "stream",
          "name": "stdout",
          "text": [
            "2\n"
          ]
        }
      ]
    },
    {
      "cell_type": "code",
      "source": [
        "x = TabInt[1] + TabInt[6]\n",
        "x"
      ],
      "metadata": {
        "id": "Ai7Ok4a6wm9Y",
        "outputId": "fa6becbe-1ca2-4474-906e-dad62d40f2b6",
        "colab": {
          "base_uri": "https://localhost:8080/"
        }
      },
      "execution_count": 16,
      "outputs": [
        {
          "output_type": "execute_result",
          "data": {
            "text/plain": [
              "2"
            ]
          },
          "metadata": {},
          "execution_count": 16
        }
      ]
    },
    {
      "cell_type": "code",
      "source": [
        "TabInt = [1, 2, 4, -1, 100, 2, 0, -1, 3, 9]\n",
        "print(TabInt[9])\n"
      ],
      "metadata": {
        "id": "TIxMtTLZw5sB",
        "outputId": "b3483f61-1702-44ea-b525-a63ba1d0b509",
        "colab": {
          "base_uri": "https://localhost:8080/"
        }
      },
      "execution_count": 13,
      "outputs": [
        {
          "output_type": "stream",
          "name": "stdout",
          "text": [
            "9\n"
          ]
        }
      ]
    },
    {
      "cell_type": "markdown",
      "source": [
        "Contoh 5"
      ],
      "metadata": {
        "id": "bj3hTPZayMJI"
      }
    },
    {
      "cell_type": "code",
      "source": [
        "# Program IsiArray\n",
        "# Mengisi array dengan nilai dari pengguna\n",
        "# KAMUS\n",
        "# TabInt : array [0..9] of int\n",
        "# i: int\n",
        "# ALGORITMA\n",
        "# Deklarasi array NumbInt dan mengisinya dengan nilai default 0\n",
        "NumbInt = [0 for i in range(10)]\n",
        "# Mengisi array dari pembacaan nilai dari keyboard\n",
        "for i in range(0,10): NumbInt[i] = int(input())"
      ],
      "metadata": {
        "id": "mLwSBqXcxesI",
        "outputId": "cadbaadd-e9bc-4ddf-c316-12b8031fcb07",
        "colab": {
          "base_uri": "https://localhost:8080/"
        }
      },
      "execution_count": 18,
      "outputs": [
        {
          "name": "stdout",
          "output_type": "stream",
          "text": [
            "5\n",
            "7\n",
            "9\n",
            "3\n",
            "4\n",
            "0\n",
            "1\n",
            "6\n",
            "4\n",
            "8\n"
          ]
        }
      ]
    },
    {
      "cell_type": "code",
      "source": [
        "NumbInt = [0 for i in range(10)]\n",
        "for i in range(0,10): NumbInt[i] = int(input())\n",
        "1"
      ],
      "metadata": {
        "id": "iqFe2oa7yvQ4",
        "outputId": "499eb99d-fcf5-415d-8ff5-d722f843bfc9",
        "colab": {
          "base_uri": "https://localhost:8080/"
        }
      },
      "execution_count": 21,
      "outputs": [
        {
          "name": "stdout",
          "output_type": "stream",
          "text": [
            "0\n",
            "9\n",
            "8\n",
            "7\n",
            "6\n",
            "5\n",
            "4\n",
            "3\n",
            "2\n",
            "1\n"
          ]
        }
      ]
    },
    {
      "cell_type": "markdown",
      "source": [
        "Contoh 6"
      ],
      "metadata": {
        "id": "cnarLY-JysXQ"
      }
    },
    {
      "cell_type": "code",
      "source": [
        "# Program IsiArray\n",
        "# Mengisi array dengan nilai dari pengguna\n",
        "# KAMUS\n",
        "# TabInt : array [0..9] of int\n",
        "# I : int\n",
        "# ALGORITMA\n",
        "# Deklarasi array NumbInt dan mengisinya dengan nilai default 0\n",
        "NumbInt = [0 for i in range(10)]\n",
        "# Mengisi array dari pembacaan nilai dari keyboard\n",
        "for i in range(0,10):\n",
        "    NumbInt[i] = int(input())\n",
        "# Mencetak isi array\n",
        "for i in range(0,10):\n",
        "    print(NumbInt[i])"
      ],
      "metadata": {
        "id": "hXrurfu_y_lY",
        "outputId": "529d44d6-935e-44b9-a620-6a97f1652921",
        "colab": {
          "base_uri": "https://localhost:8080/"
        }
      },
      "execution_count": 22,
      "outputs": [
        {
          "output_type": "stream",
          "name": "stdout",
          "text": [
            "1\n",
            "2\n",
            "3\n",
            "4\n",
            "5\n",
            "6\n",
            "7\n",
            "8\n",
            "9\n",
            "0\n",
            "1\n",
            "2\n",
            "3\n",
            "4\n",
            "5\n",
            "6\n",
            "7\n",
            "8\n",
            "9\n",
            "0\n"
          ]
        }
      ]
    },
    {
      "cell_type": "code",
      "source": [
        "NumbInt = [0 for i in range(10)]\n",
        "for i in range(0,10):\n",
        "    NumbInt[i] = int(input())\n",
        "for i in range(0,10):\n",
        "    print(NumbInt[i])"
      ],
      "metadata": {
        "id": "gFnzjYNhydMI",
        "outputId": "a58297d1-cb33-483a-8981-dae71a47be30",
        "colab": {
          "base_uri": "https://localhost:8080/"
        }
      },
      "execution_count": 20,
      "outputs": [
        {
          "output_type": "stream",
          "name": "stdout",
          "text": [
            "1\n",
            "2\n",
            "3\n",
            "4\n",
            "5\n",
            "6\n",
            "7\n",
            "8\n",
            "9\n",
            "0\n",
            "1\n",
            "2\n",
            "3\n",
            "4\n",
            "5\n",
            "6\n",
            "7\n",
            "8\n",
            "9\n",
            "0\n"
          ]
        }
      ]
    },
    {
      "cell_type": "markdown",
      "source": [
        "Contoh 7"
      ],
      "metadata": {
        "id": "3Xx3r8NDzHXQ"
      }
    },
    {
      "cell_type": "code",
      "source": [
        "# Program AverageArray\n",
        "# Menghitung nilai rata-rata elemen array\n",
        "# KAMUS\n",
        "# TabInt : array [0..9] of int\n",
        "# i : int\n",
        "# sum : int\n",
        "# ALGORITMA\n",
        "# Deklarasi array TabInt dan mengisinya dengan nilai default 0\n",
        "NumbInt = [0 for i in range(10)]\n",
        "# Mengisi array dari pembacaan nilai dari keyboard\n",
        "for i in range(0,10):\n",
        "    NumbInt[i] = int(input())\n",
        "# Menjumlahkan elemen array\n",
        "sum = 0\n",
        "for i in range(0,10):\n",
        "    sum = sum + NumbInt[i]\n",
        "# Menghitung nilai rata-rata dan menampilkannya\n",
        "rata = sum/10\n",
        "print (\"Nilai rata-rata = \" + str(rata))"
      ],
      "metadata": {
        "id": "6ef72DoWzIow",
        "outputId": "46177387-05b8-44c5-dd9f-7aa5d5491f3e",
        "colab": {
          "base_uri": "https://localhost:8080/"
        }
      },
      "execution_count": 23,
      "outputs": [
        {
          "output_type": "stream",
          "name": "stdout",
          "text": [
            "1\n",
            "2\n",
            "3\n",
            "4\n",
            "5\n",
            "6\n",
            "7\n",
            "8\n",
            "9\n",
            "0\n",
            "Nilai rata-rata = 4.5\n"
          ]
        }
      ]
    },
    {
      "cell_type": "code",
      "source": [
        "NumbInt = [0 for i in range(8)]\n",
        "for i in range(0,8):\n",
        "    NumbInt[i] = int(input())\n",
        "sum = 0\n",
        "for i in range(0,8):\n",
        "    sum = sum + NumbInt[i]\n",
        "rata = sum/8\n",
        "print (\"Nilai rata-rata = \" + str(rata))\n"
      ],
      "metadata": {
        "id": "8VI3_qHjzTUX",
        "outputId": "048a7fd1-6c09-40c3-af02-2ee2f3ba8ed1",
        "colab": {
          "base_uri": "https://localhost:8080/"
        }
      },
      "execution_count": 25,
      "outputs": [
        {
          "output_type": "stream",
          "name": "stdout",
          "text": [
            "60\n",
            "65\n",
            "70\n",
            "75\n",
            "80\n",
            "85\n",
            "90\n",
            "95\n",
            "Nilai rata-rata = 77.5\n"
          ]
        }
      ]
    },
    {
      "cell_type": "code",
      "source": [
        "NumbInt = [0 for i in range (3)]\n",
        "for i in range(0,3):\n",
        "  NumbInt[i] = int(input())\n",
        "sum = 0\n",
        "for i in range(0,3):\n",
        "  sum = sum + NumbInt[i]\n",
        "rata = sum/3\n",
        "print (\"Nilai rata-rata = \" + str(rata))"
      ],
      "metadata": {
        "id": "he71d0oxz15H",
        "outputId": "41fe066a-6e7d-4e82-f14b-6ceaf3e1dd2b",
        "colab": {
          "base_uri": "https://localhost:8080/"
        }
      },
      "execution_count": 26,
      "outputs": [
        {
          "output_type": "stream",
          "name": "stdout",
          "text": [
            "90\n",
            "95\n",
            "98\n",
            "Nilai rata-rata = 94.33333333333333\n"
          ]
        }
      ]
    },
    {
      "cell_type": "markdown",
      "source": [
        "Latihan Array"
      ],
      "metadata": {
        "id": "dnwVJfPN1zy_"
      }
    },
    {
      "cell_type": "code",
      "source": [
        "# Program: Perkalian Array dan Mencari Nilai Ekstrem\n",
        "# 1. Inisialisasi array S\n",
        "S = [4, 1, -1, 10, 0, 12]\n",
        "# 2. Input nilai D dari pengguna\n",
        "D = int(input(\"Masukkan nilai D (pengali): \"))\n",
        "# 3. Kalikan setiap elemen S dengan D\n",
        "S = [elemen * D for elemen in S]\n",
        "# 4. Tampilkan hasil array setelah dikalikan\n",
        "print(\"Array S setelah dikalikan dengan D:\")\n",
        "print(S)\n",
        "# 5. Cari nilai maksimum dan minimum\n",
        "maks = max(S)\n",
        "minim = min(S)\n",
        "# 6. Tampilkan nilai maksimum dan minimum\n",
        "print(\"Nilai terbesar dalam array:\", maks)\n",
        "print(\"Nilai terkecil dalam array:\", minim)"
      ],
      "metadata": {
        "id": "XyEcSMYr1h6v",
        "outputId": "9f009488-4804-4ec4-d797-64df30d74d9f",
        "colab": {
          "base_uri": "https://localhost:8080/"
        }
      },
      "execution_count": 28,
      "outputs": [
        {
          "output_type": "stream",
          "name": "stdout",
          "text": [
            "Masukkan nilai D (pengali): 80\n",
            "Array S setelah dikalikan dengan D:\n",
            "[320, 80, -80, 800, 0, 960]\n",
            "Nilai terbesar dalam array: 960\n",
            "Nilai terkecil dalam array: -80\n"
          ]
        }
      ]
    },
    {
      "cell_type": "code",
      "source": [
        "S = [3, 5, -1, 10, 0, 20]\n",
        "D = int(input(\"Masukkan nilai D (pengali): \"))\n",
        "S = [elemen * D for elemen in S]\n",
        "print(\"Array S setelah dikalikan dengan D:\")\n",
        "print(S)\n",
        "maks = max(S)\n",
        "minim = min(S)\n",
        "print(\"Nilai terbesar dalam array:\", maks)\n",
        "print(\"Nilai terkecil dalam array:\", minim)"
      ],
      "metadata": {
        "id": "jiZl9lSQ18lv",
        "outputId": "1c043453-ce2a-46aa-c80e-006963d94653",
        "colab": {
          "base_uri": "https://localhost:8080/"
        }
      },
      "execution_count": 35,
      "outputs": [
        {
          "output_type": "stream",
          "name": "stdout",
          "text": [
            "Masukkan nilai D (pengali): 100\n",
            "Array S setelah dikalikan dengan D:\n",
            "[300, 500, -100, 1000, 0, 2000]\n",
            "Nilai terbesar dalam array: 2000\n",
            "Nilai terkecil dalam array: -100\n"
          ]
        }
      ]
    },
    {
      "cell_type": "markdown",
      "source": [
        "Matriks"
      ],
      "metadata": {
        "id": "s2ykuT5w220x"
      }
    },
    {
      "cell_type": "markdown",
      "source": [
        "Contoh 1"
      ],
      "metadata": {
        "id": "6YBZUS4k5CXY"
      }
    },
    {
      "cell_type": "code",
      "source": [
        "MatM = [[1,2,3,4,5],\n",
        "        [6,7,8,9,10],\n",
        "        [11,12,13,14,15],\n",
        "        [16,17,18,19,20],\n",
        "        [21,22,23,24,25]]\n",
        "print(MatM)"
      ],
      "metadata": {
        "id": "uSZLmsxm0th3",
        "outputId": "d3c9ca94-ebcd-4715-a728-2d8cc500a145",
        "colab": {
          "base_uri": "https://localhost:8080/"
        }
      },
      "execution_count": 55,
      "outputs": [
        {
          "output_type": "stream",
          "name": "stdout",
          "text": [
            "[[1, 2, 3, 4, 5], [6, 7, 8, 9, 10], [11, 12, 13, 14, 15], [16, 17, 18, 19, 20], [21, 22, 23, 24, 25]]\n"
          ]
        }
      ]
    },
    {
      "cell_type": "code",
      "source": [
        "for j in range (len(MatM)):\n",
        "  for i in range (len(MatM[i])):\n",
        "    print(MatM[i][i], end= \" \")\n",
        "  print()"
      ],
      "metadata": {
        "id": "psehQNLV3x0Y",
        "outputId": "30475b98-0416-4e91-850e-f6cca50796b1",
        "colab": {
          "base_uri": "https://localhost:8080/"
        }
      },
      "execution_count": 46,
      "outputs": [
        {
          "output_type": "stream",
          "name": "stdout",
          "text": [
            "1 7 13 19 25 \n",
            "1 7 13 19 25 \n",
            "1 7 13 19 25 \n",
            "1 7 13 19 25 \n",
            "1 7 13 19 25 \n"
          ]
        }
      ]
    },
    {
      "cell_type": "markdown",
      "source": [
        "Contoh 2"
      ],
      "metadata": {
        "id": "rNlfZvq95Jim"
      }
    },
    {
      "cell_type": "code",
      "source": [
        "matValue = [[0 for j in range (4)] for i in range (3)]\n",
        "print(matValue)"
      ],
      "metadata": {
        "id": "rldsPKZ427vw",
        "outputId": "d735ea3e-59d0-4ae2-8984-67786815f78b",
        "colab": {
          "base_uri": "https://localhost:8080/"
        }
      },
      "execution_count": 43,
      "outputs": [
        {
          "output_type": "stream",
          "name": "stdout",
          "text": [
            "[[0, 0, 0, 0], [0, 0, 0, 0], [0, 0, 0, 0]]\n"
          ]
        }
      ]
    },
    {
      "cell_type": "markdown",
      "source": [
        "Contoh 3"
      ],
      "metadata": {
        "id": "-89GVOV1-KyO"
      }
    },
    {
      "cell_type": "code",
      "source": [
        "for j in range (5):\n",
        " for i in range (5):\n",
        "  print(MatM[4][0], end= \" \")\n",
        "print()"
      ],
      "metadata": {
        "id": "8WjfRYql5McX",
        "outputId": "27eb677b-fab5-41f5-bf65-66c8a4022b7e",
        "colab": {
          "base_uri": "https://localhost:8080/"
        }
      },
      "execution_count": 68,
      "outputs": [
        {
          "output_type": "stream",
          "name": "stdout",
          "text": [
            "21 21 21 21 21 21 21 21 21 21 21 21 21 21 21 21 21 21 21 21 21 21 21 21 21 \n"
          ]
        }
      ]
    },
    {
      "cell_type": "markdown",
      "source": [
        "Contoh 4"
      ],
      "metadata": {
        "id": "cyPLlkDm7b6G"
      }
    },
    {
      "cell_type": "code",
      "source": [
        "# Program IsiMatriks;\n",
        "# Isi matriks dan menulis ke layar\n",
        "# KAMUS\n",
        "# M : matriks of integer\n",
        "# NBrs, NKol : int (ukuran brs & kol)\n",
        "# i, j : int (indeks)\n",
        "# ALGORITMA\n",
        "# deklarasi matriks\n",
        "NBrs = 5; NKol = 5;\n",
        "M = [[0 for j in range(NKol)] for i in range(NBrs)]\n",
        "# Mengisi matriks ukuran NBrsxNKol\n",
        "for i in range (NBrs):\n",
        "  for j in range (NKol):\n",
        "    M[i][j] = i * j\n",
        "# Menuliskan isi matriks ke layar\n",
        "for i in range (NBrs):\n",
        "  for j in range (NKol):\n",
        "    print(str(M[i][j])+\" \", end='')\n",
        "print() # print hanya enter"
      ],
      "metadata": {
        "id": "nNcyljol7Man",
        "outputId": "fbd04889-bd44-4d90-ac25-14df71bad99e",
        "colab": {
          "base_uri": "https://localhost:8080/"
        }
      },
      "execution_count": 57,
      "outputs": [
        {
          "output_type": "stream",
          "name": "stdout",
          "text": [
            "0 0 0 0 0 0 1 2 3 4 0 2 4 6 8 0 3 6 9 12 0 4 8 12 16 \n"
          ]
        }
      ]
    },
    {
      "cell_type": "code",
      "source": [
        "NBrs = 5; NKol = 5;\n",
        "M = [[0 for j in range(NKol)] for i in range(NBrs)]\n",
        "for i in range (NBrs):\n",
        "  for j in range (NKol):\n",
        "    M[i][j] = i * j\n",
        "for i in range (NBrs):\n",
        "  for j in range (NKol):\n",
        "    print(str(M[i][j])+\" \", end=' ')\n",
        "print() # print hanya enter"
      ],
      "metadata": {
        "id": "Mi9skCdw7bgv",
        "outputId": "5394ddb3-c113-43eb-b265-052d662502dc",
        "colab": {
          "base_uri": "https://localhost:8080/"
        }
      },
      "execution_count": 60,
      "outputs": [
        {
          "output_type": "stream",
          "name": "stdout",
          "text": [
            "0  0  0  0  0  0  1  2  3  4  0  2  4  6  8  0  3  6  9  12  0  4  8  12  16  \n"
          ]
        }
      ]
    },
    {
      "cell_type": "markdown",
      "source": [
        "Contoh 5"
      ],
      "metadata": {
        "id": "9BiLLcfy79DI"
      }
    },
    {
      "cell_type": "code",
      "source": [
        "# Program BacaMatriks;\n",
        "# Baca isi matriks dari pengguna dan menulis ke layar\n",
        "# KAMUS\n",
        "# M : matriks of integer\n",
        "# NBrs, NKol : int (ukuran brs & kol)\n",
        "# i, j : int (indeks)\n",
        "# ALGORITMA\n",
        "# deklarasi matriks\n",
        "NBrs = 5; NKol = 5;\n",
        "M = [[0 for j in range(NKol)] for i in range(NBrs)]\n",
        "# Mengisi matriks ukuran NBrsxNKol\n",
        "for i in range (NBrs):\n",
        "  for j in range (NKol):\n",
        "  M[i][j] = int(input(\"Elemen ke-[\"+str(i)+\",\"+str(j)+\"] = \"))\n",
        "# Menuliskan isi matriks ke layar\n",
        "for i in range (NBrs):\n",
        "  for j in range (NKol):\n",
        "    print(str(M[i][j])+\" \", end='') # print tanpa enter\n",
        "print() # print hanya enter"
      ],
      "metadata": {
        "id": "DUa42EkI75r_",
        "outputId": "46eab6dd-95e6-49e8-fbeb-a827960eefce",
        "colab": {
          "base_uri": "https://localhost:8080/",
          "height": 106
        }
      },
      "execution_count": 61,
      "outputs": [
        {
          "output_type": "error",
          "ename": "IndentationError",
          "evalue": "expected an indented block after 'for' statement on line 13 (<ipython-input-61-98f299513be5>, line 14)",
          "traceback": [
            "\u001b[0;36m  File \u001b[0;32m\"<ipython-input-61-98f299513be5>\"\u001b[0;36m, line \u001b[0;32m14\u001b[0m\n\u001b[0;31m    M[i][j] = int(input(\"Elemen ke-[\"+str(i)+\",\"+str(j)+\"] = \"))\u001b[0m\n\u001b[0m    ^\u001b[0m\n\u001b[0;31mIndentationError\u001b[0m\u001b[0;31m:\u001b[0m expected an indented block after 'for' statement on line 13\n"
          ]
        }
      ]
    },
    {
      "cell_type": "code",
      "source": [
        "# Program untuk membaca matriks dan mengalikan setiap elemennya dengan X\n",
        "# Membaca ukuran matriks\n",
        "baris = int(input(\"Masukkan jumlah baris: \"))\n",
        "kolom = int(input(\"Masukkan jumlah kolom: \"))\n",
        "# Membaca elemen-elemen matriks\n",
        "print(\"Masukkan elemen-elemen matriks:\")\n",
        "matriks = []\n",
        "  for i in range(baris):\n",
        "    baris_matriks = []\n",
        "    for j in range(kolom):\n",
        "      elemen = int(input(f\"Elemen [{i}][{j}]: \"))\n",
        "      baris_matriks.append(elemen)\n",
        "    matriks.append(baris_matriks)\n",
        "# Membaca nilai X\n",
        "X = int(input(\"Masukkan nilai X untuk mengalikan semua elemen matriks: \"))\n",
        "# Mengalikan setiap elemen matriks dengan X\n",
        "hasil = []\n",
        "  for i in range(baris):\n",
        "    hasil_baris = []\n",
        "    for j in range(kolom):\n",
        "      hasil_baris.append(matriks[i][j] * X)\n",
        "  hasil.append(hasil_baris)\n",
        "# Menampilkan hasil matriks\n",
        "print(\"\\nMatriks setelah dikalikan dengan\", X, \":\")\n",
        "for baris in hasil:\n",
        "    print(baris)"
      ],
      "metadata": {
        "id": "a5cGJ5458WMy",
        "outputId": "ca177c02-c9a8-4019-9bbf-47f234a78cde",
        "colab": {
          "base_uri": "https://localhost:8080/",
          "height": 106
        }
      },
      "execution_count": 65,
      "outputs": [
        {
          "output_type": "error",
          "ename": "IndentationError",
          "evalue": "unexpected indent (<ipython-input-65-0e469b94535d>, line 8)",
          "traceback": [
            "\u001b[0;36m  File \u001b[0;32m\"<ipython-input-65-0e469b94535d>\"\u001b[0;36m, line \u001b[0;32m8\u001b[0m\n\u001b[0;31m    for i in range(baris):\u001b[0m\n\u001b[0m    ^\u001b[0m\n\u001b[0;31mIndentationError\u001b[0m\u001b[0;31m:\u001b[0m unexpected indent\n"
          ]
        }
      ]
    },
    {
      "cell_type": "code",
      "source": [
        "# Program untuk membaca matriks dan mengalikan setiap elemennya dengan X\n",
        "# Membaca ukuran matriks\n",
        "kolom = int(input(\"Masukkan jumlah kolom: \"))\n",
        "baris = int(input(\"Masukkan jumlah baris: \"))\n",
        "# Membaca elemen-elemen matriks\n",
        "print(\"Masukkan elemen-elemen matriks:\")\n",
        "matriks = []\n",
        "for j in range(kolom):\n",
        " baris_matriks = []\n",
        " for i in range(baris):\n",
        " elemen = int(input(f\"Elemen [{i}][{j}]: \"))\n",
        " baris_matriks.append(elemen)\n",
        " matriks.append(baris_matriks)\n",
        "# Membaca nilai X\n",
        "X = int(input(\"Masukkan nilai X untuk mengalikan semua elemen matriks: \"))\n",
        "# Mengalikan setiap elemen matriks dengan X\n",
        "hasil = []\n",
        "for i in range(baris):\n",
        " hasil_baris = []\n",
        " for j in range(kolom):\n",
        " hasil_baris.append(matriks[i][j] * X)\n",
        " hasil.append(hasil_baris)\n",
        "# Menampilkan hasil matriks\n",
        "print(\"\\nMatriks setelah dikalikan dengan\", X, \":\")\n",
        "for baris in hasil:\n",
        " print(baris)"
      ],
      "metadata": {
        "id": "lb2B2zQ-9DWX",
        "outputId": "0d360b09-92fb-4066-ef1b-702dd9f5ecb3",
        "colab": {
          "base_uri": "https://localhost:8080/",
          "height": 106
        }
      },
      "execution_count": 66,
      "outputs": [
        {
          "output_type": "error",
          "ename": "IndentationError",
          "evalue": "expected an indented block after 'for' statement on line 10 (<ipython-input-66-defff09ad69c>, line 11)",
          "traceback": [
            "\u001b[0;36m  File \u001b[0;32m\"<ipython-input-66-defff09ad69c>\"\u001b[0;36m, line \u001b[0;32m11\u001b[0m\n\u001b[0;31m    elemen = int(input(f\"Elemen [{i}][{j}]: \"))\u001b[0m\n\u001b[0m    ^\u001b[0m\n\u001b[0;31mIndentationError\u001b[0m\u001b[0;31m:\u001b[0m expected an indented block after 'for' statement on line 10\n"
          ]
        }
      ]
    }
  ],
  "metadata": {
    "colab": {
      "name": "Welcome To Colab",
      "provenance": [],
      "include_colab_link": true
    },
    "kernelspec": {
      "display_name": "Python 3",
      "name": "python3"
    }
  },
  "nbformat": 4,
  "nbformat_minor": 0
}