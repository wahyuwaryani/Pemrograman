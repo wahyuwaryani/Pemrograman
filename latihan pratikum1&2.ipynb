{
  "cells": [
    {
      "cell_type": "markdown",
      "metadata": {
        "id": "view-in-github",
        "colab_type": "text"
      },
      "source": [
        "<a href=\"https://colab.research.google.com/github/wahyuwaryani/Pemrograman/blob/main/latihan%20pratikum1%262.ipynb\" target=\"_parent\"><img src=\"https://colab.research.google.com/assets/colab-badge.svg\" alt=\"Open In Colab\"/></a>"
      ]
    },
    {
      "cell_type": "code",
      "source": [],
      "metadata": {
        "id": "MbZ0MRLE7uq-"
      },
      "execution_count": null,
      "outputs": []
    },
    {
      "cell_type": "code",
      "source": [
        "nama = input(\"masukan nama anda \")\n",
        "jenis_kelamin = input(\"masukan jenis kelamin anda \")\n",
        "\n",
        "if jenis_kelamin == \"pria\":\n",
        "  print (f\"hallo bro {nama}\")\n",
        "else:\n",
        "  print(f\"hallo sis {nama}\")"
      ],
      "metadata": {
        "id": "XbLBMiqirukY",
        "outputId": "68ad452e-ce57-47a1-b6e1-4d252d7d037f",
        "colab": {
          "base_uri": "https://localhost:8080/"
        }
      },
      "execution_count": null,
      "outputs": [
        {
          "output_type": "stream",
          "name": "stdout",
          "text": [
            "masukan nama anda wahyu\n",
            "masukan jenis kelamin anda wanita\n",
            "hallo sis wahyu\n"
          ]
        }
      ]
    },
    {
      "cell_type": "code",
      "source": [
        "bilangan = int(input(\"masukan bilangan \"))\n",
        "if bilangan %3 == 0:\n",
        "  print(\"bilangan habis di bagi tiga \")\n",
        "else:\n",
        "  print(\"bilangan tidak habis dibagi tiga\")"
      ],
      "metadata": {
        "id": "ba2oMTJ4vbPB",
        "outputId": "dd355c80-8621-4988-fe0b-dca14cab38c3",
        "colab": {
          "base_uri": "https://localhost:8080/"
        }
      },
      "execution_count": null,
      "outputs": [
        {
          "output_type": "stream",
          "name": "stdout",
          "text": [
            "masukan bilangan 3\n",
            "bilangan habis di bagi tiga \n"
          ]
        }
      ]
    },
    {
      "cell_type": "code",
      "source": [
        "tinggi_badan = (\"masukan tinggi badan anda \")\n",
        "tinggi_badan = int(input())\n",
        "if tinggi_badan < 150:\n",
        "  print(\"tinggi badan anda kurang \")\n",
        "elif tinggi_badan > 170:\n",
        "  print(\"tinggi badan anda ideal \")\n",
        "elif tinggi_badan > 185:\n",
        "  print(\"tinggi badan anda sangat tinggi\")\n",
        "else:\n",
        "  print(\"tinggi badan anda \")"
      ],
      "metadata": {
        "id": "10Ula50hwlzZ",
        "outputId": "f5f8486f-3279-44bf-8635-3fcfea6d1072",
        "colab": {
          "base_uri": "https://localhost:8080/"
        }
      },
      "execution_count": null,
      "outputs": [
        {
          "output_type": "stream",
          "name": "stdout",
          "text": [
            "160\n",
            "tinggi badan anda \n"
          ]
        }
      ]
    },
    {
      "cell_type": "code",
      "source": [
        "jumlah_barang = int(input(\"masukan jumlah barang yang dibeli: \"))\n",
        "for i in range(jumlah_barang):\n",
        "  nama_barang = input(f\"masukan nama barang ke -{i+1}: \")\n",
        "  harga_barang = int(input(f\"masukan harga brang ke -{i+1}: \"))\n",
        "  total_barang = jumlah_barang * harga_barang\n",
        "  print(f\"total harga barang {nama_barang} adalah { total_barang} \")"
      ],
      "metadata": {
        "id": "jpTCWcyny7n6",
        "outputId": "0a590208-ddbf-4ec5-c544-1d679a9e6017",
        "colab": {
          "base_uri": "https://localhost:8080/"
        }
      },
      "execution_count": null,
      "outputs": [
        {
          "output_type": "stream",
          "name": "stdout",
          "text": [
            "masukan jumlah barang yang dibeli: 1\n",
            "masukan nama barang ke -1: 5\n",
            "masukan harga brang ke -1: 7000\n",
            "total harga barang 5 adalah 7000 \n"
          ]
        }
      ]
    },
    {
      "cell_type": "code",
      "source": [
        "jumlah_barang = int(input(\"masukan jumlah barang yang dibeli: \"))\n",
        "total_belanja = 0\n",
        "for i in range(jumlah_barang):\n",
        "  print (f\"\\nbarang ke - {i+1} \")\n",
        "  harga_satuan = float(input(\"masukan harga satuan barang: \"))\n",
        "  jumlah_unit = int(input(\"masukan jumlah unit barang:\"))\n",
        "  total_harga = harga_satuan * jumlah_unit\n",
        "  total_belanja += total_harga\n",
        "  print(f\"\\ntotal belanja anda adalah: Rp{total_belanja:,.2f}\")"
      ],
      "metadata": {
        "id": "IkbvxQrP4mpU",
        "outputId": "f4f28122-c5fb-4cff-ce36-746b3a9ebcf6",
        "colab": {
          "base_uri": "https://localhost:8080/"
        }
      },
      "execution_count": null,
      "outputs": [
        {
          "output_type": "stream",
          "name": "stdout",
          "text": [
            "masukan jumlah barang yang dibeli: 1\n",
            "\n",
            "barang ke - 1 \n",
            "masukan harga satuan barang: 5000\n",
            "masukan jumlah unit barang:7\n",
            "\n",
            "total belanja anda adalah: Rp35,000.00\n"
          ]
        }
      ]
    }
  ],
  "metadata": {
    "colab": {
      "name": "Welcome To Colab",
      "provenance": [],
      "include_colab_link": true
    },
    "kernelspec": {
      "display_name": "Python 3",
      "name": "python3"
    }
  },
  "nbformat": 4,
  "nbformat_minor": 0
}