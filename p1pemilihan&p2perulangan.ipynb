{
  "nbformat": 4,
  "nbformat_minor": 0,
  "metadata": {
    "colab": {
      "provenance": [],
      "authorship_tag": "ABX9TyMdb6NSbehCdIrXL+9kJyA+",
      "include_colab_link": true
    },
    "kernelspec": {
      "name": "python3",
      "display_name": "Python 3"
    },
    "language_info": {
      "name": "python"
    }
  },
  "cells": [
    {
      "cell_type": "markdown",
      "metadata": {
        "id": "view-in-github",
        "colab_type": "text"
      },
      "source": [
        "<a href=\"https://colab.research.google.com/github/wahyuwaryani/Pemrograman/blob/main/p1pemilihan%26p2perulangan.ipynb\" target=\"_parent\"><img src=\"https://colab.research.google.com/assets/colab-badge.svg\" alt=\"Open In Colab\"/></a>"
      ]
    },
    {
      "cell_type": "markdown",
      "source": [],
      "metadata": {
        "id": "NeDzxv8GFbsS"
      }
    },
    {
      "cell_type": "markdown",
      "source": [
        "A. SELEKSI KONDISI IF"
      ],
      "metadata": {
        "id": "Pu56vweQ5KjV"
      }
    },
    {
      "cell_type": "code",
      "execution_count": 1,
      "metadata": {
        "colab": {
          "base_uri": "https://localhost:8080/"
        },
        "id": "FXR3HoxHFWm5",
        "outputId": "65224d0f-625b-4c71-fcfa-9843146a9823"
      },
      "outputs": [
        {
          "output_type": "stream",
          "name": "stdout",
          "text": [
            "Sembilan Lebih Besar Dari Angka Tujuh\n"
          ]
        }
      ],
      "source": [
        "#Kondisi if adalah kondisi yang akan dieksekusi oleh program jika bernilai benar atau TRUE\n",
        "nilai = 9\n",
        "#jika kondisi benar/TRUE maka program akan mengeksekusi perintah dibawahnya\n",
        "if(nilai > 7):\n",
        "    print(\"Sembilan Lebih Besar Dari Angka Tujuh\") # Kondisi Benar, Dieksekusi\n",
        "#jika kondisi salah/FALSE maka program tidak akan mengeksekusi perintah dibawahnya\n",
        "if(nilai > 10):\n",
        "    print(\"Sembilan Lebih Besar Dari Angka Sepuluh\") # Kondisi Salah, Maka tidak tereksekusi"
      ]
    },
    {
      "cell_type": "code",
      "source": [
        "grade = float(input(\"Masukkan Nilai Anda: \"))\n",
        "\n",
        "if grade == 100:\n",
        "    print(\"perfect\")\n",
        "\n",
        "if grade == 90:\n",
        "    print(\"ok\")\n",
        "    print(\"keep working hard!\")"
      ],
      "metadata": {
        "colab": {
          "base_uri": "https://localhost:8080/"
        },
        "id": "fqi5eHavFsGD",
        "outputId": "e1fb4b13-1151-4989-f7aa-4f46c420e3b5"
      },
      "execution_count": 2,
      "outputs": [
        {
          "name": "stdout",
          "output_type": "stream",
          "text": [
            "Masukkan Nilai Anda: 95\n"
          ]
        }
      ]
    },
    {
      "cell_type": "code",
      "source": [
        "grade = float(input(\"Masukkan Nilai Anda: \"))\n",
        "\n",
        "if grade == 100:\n",
        "    print(\"perfect\")\n",
        "\n",
        "if grade == 90:\n",
        "    print(\"ok\")\n",
        "    print(\"keep working hard!\")"
      ],
      "metadata": {
        "colab": {
          "base_uri": "https://localhost:8080/"
        },
        "id": "jj91DYIFFxeE",
        "outputId": "d5f7f0aa-2a5c-416f-a982-e320683130b3"
      },
      "execution_count": 3,
      "outputs": [
        {
          "output_type": "stream",
          "name": "stdout",
          "text": [
            "Masukkan Nilai Anda: 90\n",
            "ok\n",
            "keep working hard!\n"
          ]
        }
      ]
    },
    {
      "cell_type": "markdown",
      "source": [
        "B. SELEKSI KONDISI IF-ELSE\n",
        "\n"
      ],
      "metadata": {
        "id": "CJnfF6B1F4KZ"
      }
    },
    {
      "cell_type": "code",
      "source": [
        "# Kondisi if else adalah jika kondisi bernilai TRUE maka akan dieksekusi pada if,\n",
        "# tetapi jika bernilai FALSE maka akan dieksekusi kode pada else\n",
        "\n",
        "nilai = 8\n",
        "# Jika pernyataan pada if bernilai TRUE maka if akan dieksekusi,\n",
        "# tetapi jika FALSE kode pada else yang akan dieksekusi.\n",
        "if(nilai > 7):\n",
        "    print(\"Selamat Anda Lulus\")\n",
        "else:\n",
        "    print(\"Maaf Anda Tidak Lulus\")"
      ],
      "metadata": {
        "colab": {
          "base_uri": "https://localhost:8080/"
        },
        "id": "WRkCpywPF3tR",
        "outputId": "c42db9e8-c968-4dd9-ebd4-a9d8ff3909da"
      },
      "execution_count": 4,
      "outputs": [
        {
          "output_type": "stream",
          "name": "stdout",
          "text": [
            "Selamat Anda Lulus\n"
          ]
        }
      ]
    },
    {
      "cell_type": "code",
      "source": [
        "str_input = input('Enter your grade: ')\n",
        "grade = int(str_input)\n",
        "\n",
        "if grade == 100:\n",
        "    print(\"perfect\")\n",
        "else:\n",
        "    print(\"keep it up\")"
      ],
      "metadata": {
        "colab": {
          "base_uri": "https://localhost:8080/"
        },
        "id": "vF1ypWjXF9S0",
        "outputId": "328e8ca0-0c33-4d33-cbb7-77b75f02c3c7"
      },
      "execution_count": 5,
      "outputs": [
        {
          "output_type": "stream",
          "name": "stdout",
          "text": [
            "Enter your grade: 100\n",
            "perfect\n"
          ]
        }
      ]
    },
    {
      "cell_type": "code",
      "source": [
        "Lapar = input(\"Apakah zaki lapar? \")\n",
        "if(\"lapar == ya\"):\n",
        "    print(\"Zaki makan\")\n",
        "else:\n",
        "    print(\"Zaki tidak makan\")"
      ],
      "metadata": {
        "colab": {
          "base_uri": "https://localhost:8080/"
        },
        "id": "GSstUPnnGBLA",
        "outputId": "4f5b6e93-bcd7-49ee-838d-c19f67293b63"
      },
      "execution_count": 6,
      "outputs": [
        {
          "output_type": "stream",
          "name": "stdout",
          "text": [
            "Apakah zaki lapar? ya\n",
            "Zaki makan\n"
          ]
        }
      ]
    },
    {
      "cell_type": "markdown",
      "source": [
        "C. SELEKSI KONDISI IF-ELIF-ELSE"
      ],
      "metadata": {
        "id": "4BlF1iuzGHTv"
      }
    },
    {
      "cell_type": "code",
      "source": [
        "#Contoh penggunaan kondisi elif\n",
        "\n",
        "hari_ini = input(\"Masukkan hari(gunakan huruf kecil): \")\n",
        "\n",
        "if(hari_ini == \"senin\"):\n",
        "    print(\"Saya akan kuliah\")\n",
        "elif(hari_ini == \"selasa\"):\n",
        "    print(\"Saya akan kuliah\")\n",
        "elif(hari_ini == \"rabu\"):\n",
        "    print(\"Saya akan kuliah\")\n",
        "elif(hari_ini == \"kamis\"):\n",
        "    print(\"Saya akan kuliah\")\n",
        "elif(hari_ini == \"jumat\"):\n",
        "    print(\"Saya akan kuliah\")\n",
        "elif(hari_ini == \"sabtu\"):\n",
        "    print(\"Saya akan kuliah\")\n",
        "elif(hari_ini == \"minggu\"):\n",
        "    print(\"Saya akan libur\")"
      ],
      "metadata": {
        "colab": {
          "base_uri": "https://localhost:8080/"
        },
        "id": "FeAt6jhiGF_F",
        "outputId": "cdd0c6e0-5fdd-497c-a2c0-157cc2ede933"
      },
      "execution_count": 7,
      "outputs": [
        {
          "output_type": "stream",
          "name": "stdout",
          "text": [
            "Masukkan hari(gunakan huruf kecil): rabu\n",
            "Saya akan kuliah\n"
          ]
        }
      ]
    },
    {
      "cell_type": "code",
      "source": [
        "str_input = input('Enter your grade: ')\n",
        "grade = int(str_input)\n",
        "\n",
        "if grade == 100:\n",
        "    print(\"perfect\")\n",
        "elif grade >= 85:\n",
        "    print(\"awesome\")\n",
        "elif grade >= 65:\n",
        "    print(\"passed the exam\")\n",
        "else:\n",
        "    print(\"below the passing grade\")"
      ],
      "metadata": {
        "colab": {
          "base_uri": "https://localhost:8080/"
        },
        "id": "4ACWwAqsGQsg",
        "outputId": "37a712e4-b577-457a-9590-7e8ae3983ed5"
      },
      "execution_count": 8,
      "outputs": [
        {
          "output_type": "stream",
          "name": "stdout",
          "text": [
            "Enter your grade: 90\n",
            "awesome\n"
          ]
        }
      ]
    },
    {
      "cell_type": "markdown",
      "source": [
        "D. SELEKSI KONDISI BERCABANG/NESTED"
      ],
      "metadata": {
        "id": "cKMKewmiGb0d"
      }
    },
    {
      "cell_type": "code",
      "source": [
        "str_input = input('Enter your grade: ')\n",
        "grade = int(str_input)\n",
        "\n",
        "if grade == 100:\n",
        "    print(\"perfect\")\n",
        "\n",
        "elif grade >= 85:\n",
        "    print(\"awesome\")\n",
        "\n",
        "elif grade >= 65:\n",
        "    print(\"passed the exam\")\n",
        "\n",
        "    if grade <= 70:\n",
        "        print(\"but you need to improve it!\")\n",
        "    else:\n",
        "        print(\"with ok grade\")\n",
        "\n",
        "else:\n",
        "    print(\"below the passing grade\")"
      ],
      "metadata": {
        "colab": {
          "base_uri": "https://localhost:8080/"
        },
        "id": "uFcWaE23GgIQ",
        "outputId": "93b118fe-4816-4c4b-f58e-836027def1ed"
      },
      "execution_count": 9,
      "outputs": [
        {
          "output_type": "stream",
          "name": "stdout",
          "text": [
            "Enter your grade: 65\n",
            "passed the exam\n",
            "but you need to improve it!\n"
          ]
        }
      ]
    },
    {
      "cell_type": "markdown",
      "source": [
        "E. SELEKSI KONDISI OPERASI LOGIKA"
      ],
      "metadata": {
        "id": "MPfgLJfmGrRA"
      }
    },
    {
      "cell_type": "code",
      "source": [
        "grade = int(input('Enter your current grade: '))\n",
        "prev_grade = int(input('Enter your previous grade: '))\n",
        "\n",
        "if grade >= 90 and prev_grade >= 65:\n",
        "    print(\"awesome\")\n",
        "if grade >= 90 and prev_grade < 65:\n",
        "    print(\"awesome. you definitely working hard, right?\")\n",
        "elif grade >= 65:\n",
        "    print(\"passed the exam\")\n",
        "else:\n",
        "    print(\"below the passing grade\")\n",
        "\n",
        "if (grade >= 65 and not prev_grade >= 65) or (not grade >= 65 and\n",
        "prev_grade >= 65):\n",
        "    print(\"at least you passed one exam. good job!\")"
      ],
      "metadata": {
        "colab": {
          "base_uri": "https://localhost:8080/"
        },
        "id": "L2TsyQFbGp1n",
        "outputId": "8b6bc038-1599-436c-b7c9-db365bec7693"
      },
      "execution_count": 10,
      "outputs": [
        {
          "output_type": "stream",
          "name": "stdout",
          "text": [
            "Enter your current grade: 64\n",
            "Enter your previous grade: 90\n",
            "below the passing grade\n",
            "at least you passed one exam. good job!\n"
          ]
        }
      ]
    },
    {
      "cell_type": "markdown",
      "source": [
        "B. WHILE LOOP"
      ],
      "metadata": {
        "id": "KC_AtP79G2Ay"
      }
    },
    {
      "cell_type": "code",
      "source": [
        "#Contoh penggunaan While Loop\n",
        "#Catatan: Penentuan ruang lingkup di Python bisa menggunakan tab alih-alih menggunakan tanda kurung\n",
        "count = 0\n",
        "while (count < 9):\n",
        "  print (\"The count is: \", count)\n",
        "  count = count + 1\n",
        "print (\"Good bye!\")"
      ],
      "metadata": {
        "colab": {
          "base_uri": "https://localhost:8080/"
        },
        "id": "YkNGBox4H2Jf",
        "outputId": "73868c84-644a-4370-afc7-e2a123951547"
      },
      "execution_count": 14,
      "outputs": [
        {
          "output_type": "stream",
          "name": "stdout",
          "text": [
            "The count is:  0\n",
            "The count is:  1\n",
            "The count is:  2\n",
            "The count is:  3\n",
            "The count is:  4\n",
            "The count is:  5\n",
            "The count is:  6\n",
            "The count is:  7\n",
            "The count is:  8\n",
            "Good bye!\n"
          ]
        }
      ]
    },
    {
      "cell_type": "code",
      "source": [
        "a = 3\n",
        "# blok while akan dieksekusi\n",
        "# selama a > 0\n",
        "while a > 0:\n",
        "  print(\"a =\", a, \"> 0\")\n",
        "  a = a - 1\n",
        "  print(\" a sekarang :\", a)"
      ],
      "metadata": {
        "colab": {
          "base_uri": "https://localhost:8080/"
        },
        "id": "z5ZPg5EeINWC",
        "outputId": "4c5cae8d-6ba5-470d-9f9f-9910cea40c97"
      },
      "execution_count": 15,
      "outputs": [
        {
          "output_type": "stream",
          "name": "stdout",
          "text": [
            "a = 3 > 0\n",
            " a sekarang : 2\n",
            "a = 2 > 0\n",
            " a sekarang : 1\n",
            "a = 1 > 0\n",
            " a sekarang : 0\n"
          ]
        }
      ]
    },
    {
      "cell_type": "code",
      "source": [
        "# contoh INFINITE LOOP\n",
        "# !!!hentikan program secara manual!!!\n",
        "# nilai b = 1 dan 1 > 0\n",
        "# karena nilai b tidak pernah berubah di dalam loop\n",
        "# maka kondisi akan selalu bernilai True\n",
        "b = 1 # b akan selalu bernilai 1\n",
        "while b > 0:\n",
        "  print(\"infinite loop\")"
      ],
      "metadata": {
        "id": "4XObofrqIULV"
      },
      "execution_count": null,
      "outputs": []
    },
    {
      "cell_type": "code",
      "source": [
        "jawab = 'ya'\n",
        "hitung = 0\n",
        "while(jawab == 'ya'):\n",
        "  hitung += 1\n",
        "  jawab = input(\"Ulang lagi tidak? \")\n",
        "print(\"Total perulagan: \",hitung)"
      ],
      "metadata": {
        "colab": {
          "base_uri": "https://localhost:8080/"
        },
        "id": "j2j-vO-WIXRh",
        "outputId": "bcf778c6-241c-4849-c694-6d7795d9e9af"
      },
      "execution_count": 16,
      "outputs": [
        {
          "output_type": "stream",
          "name": "stdout",
          "text": [
            "Ulang lagi tidak? ya\n",
            "Ulang lagi tidak? ya\n",
            "Ulang lagi tidak? ya\n",
            "Ulang lagi tidak? tidak\n",
            "Total perulagan:  4\n"
          ]
        }
      ]
    },
    {
      "cell_type": "markdown",
      "source": [
        "C. FOR LOOP"
      ],
      "metadata": {
        "id": "AEHO0CgHIiom"
      }
    },
    {
      "cell_type": "code",
      "source": [
        "#Contoh pengulangan for sederhana\n",
        "angka = [1,2,3,4,5]\n",
        "for x in angka:\n",
        "  print(x)"
      ],
      "metadata": {
        "colab": {
          "base_uri": "https://localhost:8080/"
        },
        "id": "nDezEc7zIiNP",
        "outputId": "314d017c-7bed-4b94-c2ab-f897615c4b90"
      },
      "execution_count": 17,
      "outputs": [
        {
          "output_type": "stream",
          "name": "stdout",
          "text": [
            "1\n",
            "2\n",
            "3\n",
            "4\n",
            "5\n"
          ]
        }
      ]
    },
    {
      "cell_type": "code",
      "source": [
        "#Contoh pengulangan for\n",
        "buah = [\"nanas\", \"apel\", \"jeruk\"]\n",
        "for makanan in buah:\n",
        "  print (\"Saya suka makan\", makanan)"
      ],
      "metadata": {
        "colab": {
          "base_uri": "https://localhost:8080/"
        },
        "id": "kLeQVpXbIpma",
        "outputId": "9a707d42-b5f3-4197-981f-578f92256c08"
      },
      "execution_count": 18,
      "outputs": [
        {
          "output_type": "stream",
          "name": "stdout",
          "text": [
            "Saya suka makan nanas\n",
            "Saya suka makan apel\n",
            "Saya suka makan jeruk\n"
          ]
        }
      ]
    },
    {
      "cell_type": "code",
      "source": [
        "ulang = 10\n",
        "for i in range(ulang):\n",
        "  print(f\"Perulangan ke-{i}\")"
      ],
      "metadata": {
        "colab": {
          "base_uri": "https://localhost:8080/"
        },
        "id": "ZU2rcSxjItms",
        "outputId": "b8349019-7c33-433d-a3de-7480fcec3405"
      },
      "execution_count": 19,
      "outputs": [
        {
          "output_type": "stream",
          "name": "stdout",
          "text": [
            "Perulangan ke-0\n",
            "Perulangan ke-1\n",
            "Perulangan ke-2\n",
            "Perulangan ke-3\n",
            "Perulangan ke-4\n",
            "Perulangan ke-5\n",
            "Perulangan ke-6\n",
            "Perulangan ke-7\n",
            "Perulangan ke-8\n",
            "Perulangan ke-9\n"
          ]
        }
      ]
    },
    {
      "cell_type": "code",
      "source": [
        "# mencetak \"Pikachu\" sebanyak 5x\n",
        "for _ in range(5):\n",
        "  print(\"Pikachu\")"
      ],
      "metadata": {
        "colab": {
          "base_uri": "https://localhost:8080/"
        },
        "id": "PPR9CdxfIxcw",
        "outputId": "89a96ace-1ee8-4385-a7f3-b3f89294def7"
      },
      "execution_count": 20,
      "outputs": [
        {
          "output_type": "stream",
          "name": "stdout",
          "text": [
            "Pikachu\n",
            "Pikachu\n",
            "Pikachu\n",
            "Pikachu\n",
            "Pikachu\n"
          ]
        }
      ]
    },
    {
      "cell_type": "code",
      "source": [
        "# mencetak nilai kuadrat 1-10 dengan step=2\n",
        "for val in range(1, 10, 2):\n",
        "  val_kuadrat = val**2\n",
        "  print(f\"{val}^2 adalah {val_kuadrat}\")"
      ],
      "metadata": {
        "colab": {
          "base_uri": "https://localhost:8080/"
        },
        "id": "oXTmXCfCI1pN",
        "outputId": "9ce3e19d-e673-4464-be4a-107f36ff2e83"
      },
      "execution_count": 21,
      "outputs": [
        {
          "output_type": "stream",
          "name": "stdout",
          "text": [
            "1^2 adalah 1\n",
            "3^2 adalah 9\n",
            "5^2 adalah 25\n",
            "7^2 adalah 49\n",
            "9^2 adalah 81\n"
          ]
        }
      ]
    },
    {
      "cell_type": "code",
      "source": [
        "# iterasi pada list\n",
        "skills = [\"Python\", \"R\", \"Julia\", \"Scala\"]\n",
        "for skill in skills:\n",
        "  print(\"Anda menguasai\", skill)\n",
        "print(\"-------------------------\")\n",
        "# iterasi pada list dengan menyertakan indeks (key)\n",
        "for idx, skill in enumerate(skills):\n",
        "  print(f\"Skill ke-{idx+1} : {skill}\")"
      ],
      "metadata": {
        "colab": {
          "base_uri": "https://localhost:8080/"
        },
        "id": "1Jb8A8WGI6kl",
        "outputId": "a565cfd4-944b-43f4-fbae-94b0ab85b3bd"
      },
      "execution_count": 22,
      "outputs": [
        {
          "output_type": "stream",
          "name": "stdout",
          "text": [
            "Anda menguasai Python\n",
            "Anda menguasai R\n",
            "Anda menguasai Julia\n",
            "Anda menguasai Scala\n",
            "-------------------------\n",
            "Skill ke-1 : Python\n",
            "Skill ke-2 : R\n",
            "Skill ke-3 : Julia\n",
            "Skill ke-4 : Scala\n"
          ]
        }
      ]
    },
    {
      "cell_type": "markdown",
      "source": [
        "D. NESTED LOOP"
      ],
      "metadata": {
        "id": "rI5XKulFJAID"
      }
    },
    {
      "cell_type": "code",
      "source": [
        "# Program Python dengan Nested Loop\n",
        "# Input jumlah baris\n",
        "baris = int(input(\"Masukkan jumlah baris: \"))\n",
        "# Loop untuk membuat pola\n",
        "for i in range(1, baris + 1):\n",
        "  for j in range(1, i + 1):\n",
        "    print(\"*\", end=\" \")\n",
        "  print() # Pindah ke baris berikutnya"
      ],
      "metadata": {
        "colab": {
          "base_uri": "https://localhost:8080/"
        },
        "id": "He8B42JAI_y_",
        "outputId": "f0a916df-0421-4b98-fa2b-a353985f833f"
      },
      "execution_count": 23,
      "outputs": [
        {
          "output_type": "stream",
          "name": "stdout",
          "text": [
            "Masukkan jumlah baris: 5\n",
            "* \n",
            "* * \n",
            "* * * \n",
            "* * * * \n",
            "* * * * * \n"
          ]
        }
      ]
    },
    {
      "cell_type": "code",
      "source": [
        "#Menamai Pasangan Hewan\n",
        "hewan1 = [\"Kucing\", \"Kelinci\", \"Hamster\"]\n",
        "hewan2 = [\"Besar\", \"Kecil\"]\n",
        "print(\"Pasangan hewan:\")\n",
        "for h1 in hewan1:\n",
        "  for h2 in hewan2:\n",
        "    print(h1, h2)"
      ],
      "metadata": {
        "colab": {
          "base_uri": "https://localhost:8080/"
        },
        "id": "WR8NJLMAJJG6",
        "outputId": "cdcffa6e-15be-4aa7-b87e-40e2616ea6d6"
      },
      "execution_count": 24,
      "outputs": [
        {
          "output_type": "stream",
          "name": "stdout",
          "text": [
            "Pasangan hewan:\n",
            "Kucing Besar\n",
            "Kucing Kecil\n",
            "Kelinci Besar\n",
            "Kelinci Kecil\n",
            "Hamster Besar\n",
            "Hamster Kecil\n"
          ]
        }
      ]
    },
    {
      "cell_type": "code",
      "source": [
        "#Daftar Hari dan Waktu\n",
        "hari = [\"Senin\", \"Selasa\", \"Rabu\"]\n",
        "waktu = [\"Pagi\", \"Siang\", \"Malam\"]\n",
        "print(\"Jadwal hari dan waktu:\")\n",
        "for h in hari:\n",
        "  for w in waktu:\n",
        "    print(h, w)\n"
      ],
      "metadata": {
        "colab": {
          "base_uri": "https://localhost:8080/"
        },
        "id": "HFniWHoTJPY7",
        "outputId": "73755a69-086b-49b4-da6f-7e01cb14d799"
      },
      "execution_count": 25,
      "outputs": [
        {
          "output_type": "stream",
          "name": "stdout",
          "text": [
            "Jadwal hari dan waktu:\n",
            "Senin Pagi\n",
            "Senin Siang\n",
            "Senin Malam\n",
            "Selasa Pagi\n",
            "Selasa Siang\n",
            "Selasa Malam\n",
            "Rabu Pagi\n",
            "Rabu Siang\n",
            "Rabu Malam\n"
          ]
        }
      ]
    },
    {
      "cell_type": "code",
      "source": [
        "#Permainan Tebak Angka\n",
        "angka_rahasia = [1, 3, 5]\n",
        "angka_tebakan = [2, 3, 4, 5]\n",
        "print(\"Hasil tebakan angka:\")\n",
        "for rahasia in angka_rahasia:\n",
        "  for tebakan in angka_tebakan:\n",
        "    if rahasia == tebakan:\n",
        "      print(f\"Benar! Angka {tebakan} cocok.\")\n",
        "  else:\n",
        "      print(f\"Angka {tebakan} salah.\")"
      ],
      "metadata": {
        "colab": {
          "base_uri": "https://localhost:8080/"
        },
        "id": "QjdCes4lJU9I",
        "outputId": "d3b04b68-4486-4edc-e9b2-065f06e4852a"
      },
      "execution_count": 26,
      "outputs": [
        {
          "output_type": "stream",
          "name": "stdout",
          "text": [
            "Hasil tebakan angka:\n",
            "Angka 5 salah.\n",
            "Benar! Angka 3 cocok.\n",
            "Angka 5 salah.\n",
            "Benar! Angka 5 cocok.\n",
            "Angka 5 salah.\n"
          ]
        }
      ]
    },
    {
      "cell_type": "markdown",
      "source": [
        "E. ELSE, BREAK, CONTINUE"
      ],
      "metadata": {
        "id": "EuCgs3s4JkK5"
      }
    },
    {
      "cell_type": "code",
      "source": [
        "# ============ WHILE DENGAN ELSE ============ #\n",
        "b = 1\n",
        "while b < 5:\n",
        "  print(\"b masih lebih kecil dari 5\")\n",
        "  b = b + 1\n",
        "else:\n",
        "  print(\"b sekarang sama dengan 5\")\n",
        "# break : menghentikan iterasi total\n",
        "print(\"\\n-------BREAK-----------\")\n",
        "skill = [\"Python\", \"R\", \"Julia\", \"Scala\"] # data dalam bentuk list\n",
        "print(\"start loop\")\n",
        "for val in skill:\n",
        "  # jika val = \"Julia\" hentikan iterasi\n",
        "  if val == \"Julia\":\n",
        "    break\n",
        "print(\" Bahasa\", val)\n",
        "print(\"end loop\")\n",
        "# continue ; menghentikan iterasi saat ini\n",
        "# dan langsung melanjutkan iterasi berikutnya\n",
        "print(\"\\n------CONTINUE---------\")"
      ],
      "metadata": {
        "colab": {
          "base_uri": "https://localhost:8080/"
        },
        "id": "YINO_xGLJjzV",
        "outputId": "5357dd28-85b4-4194-ef1d-35142b108717"
      },
      "execution_count": 27,
      "outputs": [
        {
          "output_type": "stream",
          "name": "stdout",
          "text": [
            "b masih lebih kecil dari 5\n",
            "b masih lebih kecil dari 5\n",
            "b masih lebih kecil dari 5\n",
            "b masih lebih kecil dari 5\n",
            "b sekarang sama dengan 5\n",
            "\n",
            "-------BREAK-----------\n",
            "start loop\n",
            " Bahasa Julia\n",
            "end loop\n",
            "\n",
            "------CONTINUE---------\n"
          ]
        }
      ]
    }
  ]
}